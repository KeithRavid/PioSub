{
 "cells": [
  {
   "cell_type": "code",
   "execution_count": 1,
   "id": "e1b2361c",
   "metadata": {},
   "outputs": [],
   "source": [
    "import pandas as pd\n",
    "data = open('All.txt')\n",
    "data = data.read().splitlines()\n",
    "data = pd.DataFrame(data, columns=['Raw'])"
   ]
  },
  {
   "cell_type": "code",
   "execution_count": 2,
   "id": "79c53100",
   "metadata": {},
   "outputs": [],
   "source": [
    "data['Card1_Value'] = data['Raw'].str.slice(0,1)\n",
    "data['Card1_Suit'] = data['Raw'].str.slice(1,2)\n",
    "data['Card2_Value'] = data['Raw'].str.slice(2,3)\n",
    "data['Card2_Suit'] = data['Raw'].str.slice(3,4)\n",
    "data['Card3_Value'] = data['Raw'].str.slice(4,5)\n",
    "data['Card3_Suit'] = data['Raw'].str.slice(5,6)"
   ]
  },
  {
   "cell_type": "code",
   "execution_count": 3,
   "id": "5efdea99",
   "metadata": {},
   "outputs": [],
   "source": [
    "numeric = {'T': 10, 'J': 11, 'Q': 12, 'K': 13, 'A': 14}\n",
    "data = data.replace(numeric)\n",
    "data = data.apply(pd.to_numeric, errors='ignore')\n",
    "    "
   ]
  },
  {
   "cell_type": "code",
   "execution_count": 4,
   "id": "64966148",
   "metadata": {},
   "outputs": [],
   "source": [
    "def suits(row):\n",
    "    if row['Card1_Suit'] == row['Card2_Suit'] == row['Card3_Suit']:\n",
    "        row['suits'] = 'monotone'\n",
    "    elif (row['Card1_Suit'] == row['Card2_Suit'] and row['Card1_Suit'] != row['Card3_Suit']) or (row['Card1_Suit'] == row['Card3_Suit'] and row['Card1_Suit'] != row['Card2_Suit']) or (row['Card2_Suit'] == row['Card3_Suit'] and row['Card2_Suit'] != row['Card1_Suit']):\n",
    "            row['suits'] = 'two tone'\n",
    "    else:\n",
    "       row['suits'] = 'rainbow'\n",
    "    return row\n",
    "        "
   ]
  },
  {
   "cell_type": "code",
   "execution_count": 5,
   "id": "37b66d3f",
   "metadata": {},
   "outputs": [],
   "source": [
    "data = data.apply(suits, axis=1)"
   ]
  },
  {
   "cell_type": "code",
   "execution_count": 6,
   "id": "7058c8d1",
   "metadata": {},
   "outputs": [],
   "source": [
    "def connected(row):\n",
    "    c = [row['Card1_Value'], row['Card2_Value'], row['Card3_Value']]\n",
    "    c.sort(reverse=True)\n",
    "    gap = ((c[0] - c[1]) + (c[1] - c[2])) - 2\n",
    "    if gap <=2:\n",
    "        row['connected'] = True\n",
    "    elif sum(1 for value in c if value == 14) == 1 and all((num <= 5) or (num == 14) for num in c): \n",
    "        row['connected'] = True\n",
    "    else:\n",
    "        row['connected'] = False\n",
    "    return row"
   ]
  },
  {
   "cell_type": "code",
   "execution_count": 7,
   "id": "d60bf185",
   "metadata": {},
   "outputs": [],
   "source": [
    "data = data.apply(connected, axis=1)"
   ]
  },
  {
   "cell_type": "code",
   "execution_count": 8,
   "id": "46955fb8",
   "metadata": {},
   "outputs": [],
   "source": [
    "import re\n",
    "def generate(userin, high_card):\n",
    "    if 'connected' in userin:\n",
    "        subset1 = data[data['connected'] == True]\n",
    "    elif 'nsp' in userin:\n",
    "        subset1 = data[data['connected'] == False]\n",
    "    \n",
    "    if 'monotone' in userin:\n",
    "        subset = subset1[subset1['suits'] == 'monotone']\n",
    "    elif 'two tone' in userin:\n",
    "        subset = subset1[subset1['suits'] == 'two tone']\n",
    "    elif 'rainbow' in userin:\n",
    "        subset = subset1[subset1['suits'] == 'rainbow']\n",
    "    else:\n",
    "        subset = subset1\n",
    "        \n",
    "    if high_card != 'N/A':\n",
    "        subset = subset[subset['Card1_Value'] == int(high_card)]\n",
    "    \n",
    "    num = re.search(r'\\b\\d+\\b', userin)\n",
    "    num = int(num.group())\n",
    "    subset = subset.sample(n=num)\n",
    "    \n",
    "    output = subset['Raw']\n",
    "    \n",
    "    return output"
   ]
  },
  {
   "cell_type": "code",
   "execution_count": 9,
   "id": "7569b0c0",
   "metadata": {},
   "outputs": [
    {
     "name": "stdin",
     "output_type": "stream",
     "text": [
      "Enter x high board, A = 14, K = 13, Q = 12, J = 11, or N/A 14\n"
     ]
    }
   ],
   "source": [
    "high = input('Enter x high board, A = 14, K = 13, Q = 12, J = 11, or N/A')"
   ]
  },
  {
   "cell_type": "code",
   "execution_count": 10,
   "id": "f3150753",
   "metadata": {},
   "outputs": [
    {
     "name": "stdin",
     "output_type": "stream",
     "text": [
      "Please input a number (optional) and any of the following keywords: connected, nsp, monotone, two tone, rainbow connected monotone 11\n"
     ]
    }
   ],
   "source": [
    "user = input('Please input a number (optional) and any of the following keywords: connected, nsp, monotone, two tone, rainbow')"
   ]
  },
  {
   "cell_type": "code",
   "execution_count": 11,
   "id": "ffbcb7a3",
   "metadata": {},
   "outputs": [],
   "source": [
    "output = generate(user, high)\n",
    "output.to_csv('output.txt', header=False, index=False)"
   ]
  },
  {
   "cell_type": "code",
   "execution_count": null,
   "id": "cfa62ecc",
   "metadata": {},
   "outputs": [],
   "source": []
  }
 ],
 "metadata": {
  "kernelspec": {
   "display_name": "Python 3 (ipykernel)",
   "language": "python",
   "name": "python3"
  },
  "language_info": {
   "codemirror_mode": {
    "name": "ipython",
    "version": 3
   },
   "file_extension": ".py",
   "mimetype": "text/x-python",
   "name": "python",
   "nbconvert_exporter": "python",
   "pygments_lexer": "ipython3",
   "version": "3.10.12"
  }
 },
 "nbformat": 4,
 "nbformat_minor": 5
}
